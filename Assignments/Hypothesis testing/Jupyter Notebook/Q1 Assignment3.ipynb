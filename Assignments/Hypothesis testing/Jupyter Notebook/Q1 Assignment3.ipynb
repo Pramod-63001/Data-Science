{
 "cells": [
  {
   "cell_type": "code",
   "execution_count": 8,
   "id": "38bbb145",
   "metadata": {},
   "outputs": [],
   "source": [
    "\n",
    "import pandas as pd\n",
    "import numpy as np\n",
    "from scipy import stats\n"
   ]
  },
  {
   "cell_type": "code",
   "execution_count": 9,
   "id": "b89df6b2",
   "metadata": {},
   "outputs": [],
   "source": [
    "df=pd.read_csv(\"Cutlets.csv\")"
   ]
  },
  {
   "cell_type": "code",
   "execution_count": 12,
   "id": "7d618c1a",
   "metadata": {},
   "outputs": [
    {
     "data": {
      "text/plain": [
       "Unit A    0\n",
       "Unit B    0\n",
       "dtype: int64"
      ]
     },
     "execution_count": 12,
     "metadata": {},
     "output_type": "execute_result"
    }
   ],
   "source": [
    "df.isnull().sum()"
   ]
  },
  {
   "cell_type": "code",
   "execution_count": 13,
   "id": "3d145555",
   "metadata": {},
   "outputs": [],
   "source": [
    "Unit_A=df[\"Unit A\"]\n",
    "Unit_B=df[\"Unit B\"]"
   ]
  },
  {
   "cell_type": "code",
   "execution_count": 14,
   "id": "527c32df",
   "metadata": {},
   "outputs": [],
   "source": [
    "alpha=0.05\n"
   ]
  },
  {
   "cell_type": "code",
   "execution_count": 15,
   "id": "f919c9ed",
   "metadata": {},
   "outputs": [],
   "source": [
    "#proportion Test"
   ]
  },
  {
   "cell_type": "code",
   "execution_count": 16,
   "id": "e2d1c2fc",
   "metadata": {},
   "outputs": [],
   "source": [
    "def check_hypothesis(p_val,alpha_val):\n",
    "    if p_val<= alpha_val:\n",
    "        return\"Reject Ho Accept Ha\"\n",
    "    else:\n",
    "        return\"Reject Ha Accept Ho\""
   ]
  },
  {
   "cell_type": "code",
   "execution_count": 17,
   "id": "8961121e",
   "metadata": {},
   "outputs": [],
   "source": [
    "ho=\"no significance Difference\"\n",
    "ha=\"Signification Difference\""
   ]
  },
  {
   "cell_type": "code",
   "execution_count": 18,
   "id": "a9170868",
   "metadata": {},
   "outputs": [],
   "source": [
    "import statsmodels.api as sm"
   ]
  },
  {
   "cell_type": "code",
   "execution_count": 19,
   "id": "c75001aa",
   "metadata": {},
   "outputs": [],
   "source": [
    "pval=sm.stats.ttest_ind(Unit_A,Unit_B)[1]"
   ]
  },
  {
   "cell_type": "code",
   "execution_count": 20,
   "id": "b1ad6dc7",
   "metadata": {},
   "outputs": [
    {
     "name": "stdout",
     "output_type": "stream",
     "text": [
      "Reject Ha Accept Ho\n"
     ]
    }
   ],
   "source": [
    "print(check_hypothesis(pval,alpha))"
   ]
  },
  {
   "cell_type": "code",
   "execution_count": 21,
   "id": "d0e1abfe",
   "metadata": {},
   "outputs": [
    {
     "data": {
      "text/plain": [
       "'no significance Difference'"
      ]
     },
     "execution_count": 21,
     "metadata": {},
     "output_type": "execute_result"
    }
   ],
   "source": [
    "ho"
   ]
  },
  {
   "cell_type": "code",
   "execution_count": null,
   "id": "9acd73b8",
   "metadata": {},
   "outputs": [],
   "source": []
  }
 ],
 "metadata": {
  "kernelspec": {
   "display_name": "Python 3 (ipykernel)",
   "language": "python",
   "name": "python3"
  },
  "language_info": {
   "codemirror_mode": {
    "name": "ipython",
    "version": 3
   },
   "file_extension": ".py",
   "mimetype": "text/x-python",
   "name": "python",
   "nbconvert_exporter": "python",
   "pygments_lexer": "ipython3",
   "version": "3.11.5"
  }
 },
 "nbformat": 4,
 "nbformat_minor": 5
}
