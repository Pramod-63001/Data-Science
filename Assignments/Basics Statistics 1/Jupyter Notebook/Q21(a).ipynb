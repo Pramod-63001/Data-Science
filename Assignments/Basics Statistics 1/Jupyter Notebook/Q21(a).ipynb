{
 "cells": [
  {
   "cell_type": "code",
   "execution_count": 3,
   "id": "1ca4c801",
   "metadata": {},
   "outputs": [],
   "source": [
    "import pandas as pd \n",
    "import numpy as np \n",
    "import seaborn as sns \n",
    "from scipy.stats import shapiro"
   ]
  },
  {
   "cell_type": "code",
   "execution_count": 5,
   "id": "c0c4c838",
   "metadata": {},
   "outputs": [],
   "source": [
    "df=pd.read_csv(\"Cars (1).csv\")"
   ]
  },
  {
   "cell_type": "code",
   "execution_count": 7,
   "id": "b106eb5a",
   "metadata": {},
   "outputs": [
    {
     "data": {
      "text/html": [
       "<div>\n",
       "<style scoped>\n",
       "    .dataframe tbody tr th:only-of-type {\n",
       "        vertical-align: middle;\n",
       "    }\n",
       "\n",
       "    .dataframe tbody tr th {\n",
       "        vertical-align: top;\n",
       "    }\n",
       "\n",
       "    .dataframe thead th {\n",
       "        text-align: right;\n",
       "    }\n",
       "</style>\n",
       "<table border=\"1\" class=\"dataframe\">\n",
       "  <thead>\n",
       "    <tr style=\"text-align: right;\">\n",
       "      <th></th>\n",
       "      <th>HP</th>\n",
       "      <th>MPG</th>\n",
       "      <th>VOL</th>\n",
       "      <th>SP</th>\n",
       "      <th>WT</th>\n",
       "    </tr>\n",
       "  </thead>\n",
       "  <tbody>\n",
       "    <tr>\n",
       "      <th>40</th>\n",
       "      <td>95</td>\n",
       "      <td>35.152727</td>\n",
       "      <td>113</td>\n",
       "      <td>116.392639</td>\n",
       "      <td>37.392524</td>\n",
       "    </tr>\n",
       "    <tr>\n",
       "      <th>4</th>\n",
       "      <td>53</td>\n",
       "      <td>50.504232</td>\n",
       "      <td>92</td>\n",
       "      <td>104.461264</td>\n",
       "      <td>29.889149</td>\n",
       "    </tr>\n",
       "    <tr>\n",
       "      <th>39</th>\n",
       "      <td>130</td>\n",
       "      <td>31.014131</td>\n",
       "      <td>92</td>\n",
       "      <td>128.461264</td>\n",
       "      <td>30.115434</td>\n",
       "    </tr>\n",
       "    <tr>\n",
       "      <th>26</th>\n",
       "      <td>92</td>\n",
       "      <td>38.411003</td>\n",
       "      <td>117</td>\n",
       "      <td>120.760520</td>\n",
       "      <td>38.062823</td>\n",
       "    </tr>\n",
       "    <tr>\n",
       "      <th>67</th>\n",
       "      <td>165</td>\n",
       "      <td>23.103172</td>\n",
       "      <td>127</td>\n",
       "      <td>133.680223</td>\n",
       "      <td>41.573975</td>\n",
       "    </tr>\n",
       "  </tbody>\n",
       "</table>\n",
       "</div>"
      ],
      "text/plain": [
       "     HP        MPG  VOL          SP         WT\n",
       "40   95  35.152727  113  116.392639  37.392524\n",
       "4    53  50.504232   92  104.461264  29.889149\n",
       "39  130  31.014131   92  128.461264  30.115434\n",
       "26   92  38.411003  117  120.760520  38.062823\n",
       "67  165  23.103172  127  133.680223  41.573975"
      ]
     },
     "execution_count": 7,
     "metadata": {},
     "output_type": "execute_result"
    }
   ],
   "source": [
    "df.sample(5)"
   ]
  },
  {
   "cell_type": "code",
   "execution_count": 11,
   "id": "69ed8464",
   "metadata": {},
   "outputs": [],
   "source": [
    " Mpg=df[\"MPG\"]"
   ]
  },
  {
   "cell_type": "code",
   "execution_count": 13,
   "id": "d7b023f0",
   "metadata": {},
   "outputs": [
    {
     "data": {
      "text/plain": [
       "0     53.700681\n",
       "1     50.013401\n",
       "2     50.013401\n",
       "3     45.696322\n",
       "4     50.504232\n",
       "        ...    \n",
       "76    36.900000\n",
       "77    19.197888\n",
       "78    34.000000\n",
       "79    19.833733\n",
       "80    12.101263\n",
       "Name: MPG, Length: 81, dtype: float64"
      ]
     },
     "execution_count": 13,
     "metadata": {},
     "output_type": "execute_result"
    }
   ],
   "source": [
    "Mpg"
   ]
  },
  {
   "cell_type": "code",
   "execution_count": 19,
   "id": "921098e8",
   "metadata": {},
   "outputs": [],
   "source": [
    "sts , p_val = shapiro(Mpg)"
   ]
  },
  {
   "cell_type": "code",
   "execution_count": 24,
   "id": "08aa892e",
   "metadata": {},
   "outputs": [],
   "source": [
    "alpha = 0.05"
   ]
  },
  {
   "cell_type": "code",
   "execution_count": 26,
   "id": "e3579885",
   "metadata": {},
   "outputs": [
    {
     "name": "stdout",
     "output_type": "stream",
     "text": [
      "Normal Distribution\n"
     ]
    }
   ],
   "source": [
    "if(alpha < p_val) :\n",
    "    print(\"Normal Distribution\")\n",
    "else :\n",
    "    print(\"Not Normal Distribution\")"
   ]
  },
  {
   "cell_type": "code",
   "execution_count": null,
   "id": "48f4dfba",
   "metadata": {},
   "outputs": [],
   "source": []
  }
 ],
 "metadata": {
  "kernelspec": {
   "display_name": "Python 3 (ipykernel)",
   "language": "python",
   "name": "python3"
  },
  "language_info": {
   "codemirror_mode": {
    "name": "ipython",
    "version": 3
   },
   "file_extension": ".py",
   "mimetype": "text/x-python",
   "name": "python",
   "nbconvert_exporter": "python",
   "pygments_lexer": "ipython3",
   "version": "3.11.5"
  }
 },
 "nbformat": 4,
 "nbformat_minor": 5
}
