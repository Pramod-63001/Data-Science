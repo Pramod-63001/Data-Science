{
 "cells": [
  {
   "cell_type": "code",
   "execution_count": 3,
   "id": "462c5709",
   "metadata": {},
   "outputs": [],
   "source": [
    "import pandas as pd\n",
    "import numpy as np\n",
    "from scipy import stats"
   ]
  },
  {
   "cell_type": "code",
   "execution_count": 4,
   "id": "582cdc52",
   "metadata": {},
   "outputs": [],
   "source": [
    "df=pd.read_csv(\"Cars (1).csv\")"
   ]
  },
  {
   "cell_type": "code",
   "execution_count": 9,
   "id": "374fd7e5",
   "metadata": {},
   "outputs": [
    {
     "data": {
      "text/html": [
       "<div>\n",
       "<style scoped>\n",
       "    .dataframe tbody tr th:only-of-type {\n",
       "        vertical-align: middle;\n",
       "    }\n",
       "\n",
       "    .dataframe tbody tr th {\n",
       "        vertical-align: top;\n",
       "    }\n",
       "\n",
       "    .dataframe thead th {\n",
       "        text-align: right;\n",
       "    }\n",
       "</style>\n",
       "<table border=\"1\" class=\"dataframe\">\n",
       "  <thead>\n",
       "    <tr style=\"text-align: right;\">\n",
       "      <th></th>\n",
       "      <th>HP</th>\n",
       "      <th>MPG</th>\n",
       "      <th>VOL</th>\n",
       "      <th>SP</th>\n",
       "      <th>WT</th>\n",
       "    </tr>\n",
       "  </thead>\n",
       "  <tbody>\n",
       "    <tr>\n",
       "      <th>8</th>\n",
       "      <td>62</td>\n",
       "      <td>46.716554</td>\n",
       "      <td>50</td>\n",
       "      <td>102.598513</td>\n",
       "      <td>16.359484</td>\n",
       "    </tr>\n",
       "    <tr>\n",
       "      <th>51</th>\n",
       "      <td>115</td>\n",
       "      <td>29.629936</td>\n",
       "      <td>101</td>\n",
       "      <td>118.288996</td>\n",
       "      <td>33.436711</td>\n",
       "    </tr>\n",
       "    <tr>\n",
       "      <th>50</th>\n",
       "      <td>115</td>\n",
       "      <td>29.629936</td>\n",
       "      <td>101</td>\n",
       "      <td>118.288996</td>\n",
       "      <td>33.213954</td>\n",
       "    </tr>\n",
       "    <tr>\n",
       "      <th>60</th>\n",
       "      <td>145</td>\n",
       "      <td>27.354265</td>\n",
       "      <td>111</td>\n",
       "      <td>130.208698</td>\n",
       "      <td>36.888153</td>\n",
       "    </tr>\n",
       "    <tr>\n",
       "      <th>75</th>\n",
       "      <td>175</td>\n",
       "      <td>18.762837</td>\n",
       "      <td>129</td>\n",
       "      <td>132.864163</td>\n",
       "      <td>42.778219</td>\n",
       "    </tr>\n",
       "  </tbody>\n",
       "</table>\n",
       "</div>"
      ],
      "text/plain": [
       "     HP        MPG  VOL          SP         WT\n",
       "8    62  46.716554   50  102.598513  16.359484\n",
       "51  115  29.629936  101  118.288996  33.436711\n",
       "50  115  29.629936  101  118.288996  33.213954\n",
       "60  145  27.354265  111  130.208698  36.888153\n",
       "75  175  18.762837  129  132.864163  42.778219"
      ]
     },
     "execution_count": 9,
     "metadata": {},
     "output_type": "execute_result"
    }
   ],
   "source": [
    "df.sample(5)"
   ]
  },
  {
   "cell_type": "code",
   "execution_count": 7,
   "id": "f07f22ca",
   "metadata": {},
   "outputs": [],
   "source": [
    "mpg = df[\"MPG\"]"
   ]
  },
  {
   "cell_type": "code",
   "execution_count": 8,
   "id": "12eb62c1",
   "metadata": {},
   "outputs": [],
   "source": [
    "mean = mpg.mean()\n",
    "std = mpg.std()"
   ]
  },
  {
   "cell_type": "code",
   "execution_count": 10,
   "id": "29654bad",
   "metadata": {},
   "outputs": [],
   "source": [
    "nd = stats.norm(mean,std)"
   ]
  },
  {
   "cell_type": "code",
   "execution_count": 13,
   "id": "abbe0340",
   "metadata": {},
   "outputs": [
    {
     "data": {
      "text/plain": [
       "(34.42207572802469, 9.131444731795982)"
      ]
     },
     "execution_count": 13,
     "metadata": {},
     "output_type": "execute_result"
    }
   ],
   "source": [
    "mean , std"
   ]
  },
  {
   "cell_type": "code",
   "execution_count": 12,
   "id": "3c94e0cd",
   "metadata": {},
   "outputs": [],
   "source": [
    "# P(MPG > 38)"
   ]
  },
  {
   "cell_type": "code",
   "execution_count": 16,
   "id": "02bdf85b",
   "metadata": {},
   "outputs": [
    {
     "data": {
      "text/plain": [
       "34.75939251582714"
      ]
     },
     "execution_count": 16,
     "metadata": {},
     "output_type": "execute_result"
    }
   ],
   "source": [
    "(1 - nd.cdf(38))*100"
   ]
  },
  {
   "cell_type": "code",
   "execution_count": 17,
   "id": "e5088c48",
   "metadata": {},
   "outputs": [],
   "source": [
    "#p(MPG < 40)\n"
   ]
  },
  {
   "cell_type": "code",
   "execution_count": 18,
   "id": "a5f887b2",
   "metadata": {},
   "outputs": [
    {
     "data": {
      "text/plain": [
       "72.93498762151609"
      ]
     },
     "execution_count": 18,
     "metadata": {},
     "output_type": "execute_result"
    }
   ],
   "source": [
    "nd.cdf(40)*100"
   ]
  },
  {
   "cell_type": "code",
   "execution_count": 24,
   "id": "9dd16af9",
   "metadata": {},
   "outputs": [],
   "source": [
    "zero_to_50 = nd.cdf(50)*100"
   ]
  },
  {
   "cell_type": "code",
   "execution_count": 26,
   "id": "04695454",
   "metadata": {},
   "outputs": [],
   "source": [
    "zero_to_20 = nd.cdf(20)*100"
   ]
  },
  {
   "cell_type": "code",
   "execution_count": 28,
   "id": "d8f91967",
   "metadata": {},
   "outputs": [],
   "source": [
    "twenty_to_50 = zero_to_50 - zero_to_20"
   ]
  },
  {
   "cell_type": "code",
   "execution_count": 29,
   "id": "962585aa",
   "metadata": {},
   "outputs": [
    {
     "data": {
      "text/plain": [
       "89.88689169682047"
      ]
     },
     "execution_count": 29,
     "metadata": {},
     "output_type": "execute_result"
    }
   ],
   "source": [
    "twenty_to_50"
   ]
  },
  {
   "cell_type": "code",
   "execution_count": null,
   "id": "4fe39657",
   "metadata": {},
   "outputs": [],
   "source": []
  }
 ],
 "metadata": {
  "kernelspec": {
   "display_name": "Python 3 (ipykernel)",
   "language": "python",
   "name": "python3"
  },
  "language_info": {
   "codemirror_mode": {
    "name": "ipython",
    "version": 3
   },
   "file_extension": ".py",
   "mimetype": "text/x-python",
   "name": "python",
   "nbconvert_exporter": "python",
   "pygments_lexer": "ipython3",
   "version": "3.11.5"
  }
 },
 "nbformat": 4,
 "nbformat_minor": 5
}
