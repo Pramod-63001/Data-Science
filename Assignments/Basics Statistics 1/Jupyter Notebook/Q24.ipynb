{
 "cells": [
  {
   "cell_type": "code",
   "execution_count": 1,
   "id": "74e316dd",
   "metadata": {},
   "outputs": [],
   "source": [
    "mu=270\n",
    "n=18\n",
    "xbar=260\n",
    "s=90\n"
   ]
  },
  {
   "cell_type": "code",
   "execution_count": 2,
   "id": "5d8fc35a",
   "metadata": {},
   "outputs": [],
   "source": [
    "from scipy import stats\n",
    "import numpy as  np"
   ]
  },
  {
   "cell_type": "code",
   "execution_count": 3,
   "id": "95430b59",
   "metadata": {},
   "outputs": [],
   "source": [
    "t_score=(xbar-mu)/(s/(np.sqrt(n)))"
   ]
  },
  {
   "cell_type": "code",
   "execution_count": 4,
   "id": "84244cbc",
   "metadata": {},
   "outputs": [
    {
     "data": {
      "text/plain": [
       "-0.4714045207910317"
      ]
     },
     "execution_count": 4,
     "metadata": {},
     "output_type": "execute_result"
    }
   ],
   "source": [
    "t_score"
   ]
  },
  {
   "cell_type": "code",
   "execution_count": 5,
   "id": "075f239a",
   "metadata": {},
   "outputs": [
    {
     "data": {
      "text/plain": [
       "0.32"
      ]
     },
     "execution_count": 5,
     "metadata": {},
     "output_type": "execute_result"
    }
   ],
   "source": [
    "stats.t.cdf(t_score,18-1).round(2)"
   ]
  },
  {
   "cell_type": "code",
   "execution_count": null,
   "id": "e5ff5570",
   "metadata": {},
   "outputs": [],
   "source": []
  }
 ],
 "metadata": {
  "kernelspec": {
   "display_name": "Python 3 (ipykernel)",
   "language": "python",
   "name": "python3"
  },
  "language_info": {
   "codemirror_mode": {
    "name": "ipython",
    "version": 3
   },
   "file_extension": ".py",
   "mimetype": "text/x-python",
   "name": "python",
   "nbconvert_exporter": "python",
   "pygments_lexer": "ipython3",
   "version": "3.11.5"
  }
 },
 "nbformat": 4,
 "nbformat_minor": 5
}
