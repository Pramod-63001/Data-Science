{
 "cells": [
  {
   "cell_type": "code",
   "execution_count": 2,
   "id": "454e43fb",
   "metadata": {},
   "outputs": [],
   "source": [
    "import pandas as pd\n",
    "import numpy as np "
   ]
  },
  {
   "cell_type": "code",
   "execution_count": 3,
   "id": "073818fe",
   "metadata": {},
   "outputs": [],
   "source": [
    "df=pd.read_csv(\"Q7 (1).csv\")"
   ]
  },
  {
   "cell_type": "code",
   "execution_count": 5,
   "id": "353e074d",
   "metadata": {},
   "outputs": [
    {
     "data": {
      "text/html": [
       "<div>\n",
       "<style scoped>\n",
       "    .dataframe tbody tr th:only-of-type {\n",
       "        vertical-align: middle;\n",
       "    }\n",
       "\n",
       "    .dataframe tbody tr th {\n",
       "        vertical-align: top;\n",
       "    }\n",
       "\n",
       "    .dataframe thead th {\n",
       "        text-align: right;\n",
       "    }\n",
       "</style>\n",
       "<table border=\"1\" class=\"dataframe\">\n",
       "  <thead>\n",
       "    <tr style=\"text-align: right;\">\n",
       "      <th></th>\n",
       "      <th>Unnamed: 0</th>\n",
       "      <th>Points</th>\n",
       "      <th>Score</th>\n",
       "      <th>Weigh</th>\n",
       "    </tr>\n",
       "  </thead>\n",
       "  <tbody>\n",
       "    <tr>\n",
       "      <th>0</th>\n",
       "      <td>Mazda RX4</td>\n",
       "      <td>3.90</td>\n",
       "      <td>2.620</td>\n",
       "      <td>16.46</td>\n",
       "    </tr>\n",
       "    <tr>\n",
       "      <th>1</th>\n",
       "      <td>Mazda RX4 Wag</td>\n",
       "      <td>3.90</td>\n",
       "      <td>2.875</td>\n",
       "      <td>17.02</td>\n",
       "    </tr>\n",
       "    <tr>\n",
       "      <th>2</th>\n",
       "      <td>Datsun 710</td>\n",
       "      <td>3.85</td>\n",
       "      <td>2.320</td>\n",
       "      <td>18.61</td>\n",
       "    </tr>\n",
       "    <tr>\n",
       "      <th>3</th>\n",
       "      <td>Hornet 4 Drive</td>\n",
       "      <td>3.08</td>\n",
       "      <td>3.215</td>\n",
       "      <td>19.44</td>\n",
       "    </tr>\n",
       "    <tr>\n",
       "      <th>4</th>\n",
       "      <td>Hornet Sportabout</td>\n",
       "      <td>3.15</td>\n",
       "      <td>3.440</td>\n",
       "      <td>17.02</td>\n",
       "    </tr>\n",
       "  </tbody>\n",
       "</table>\n",
       "</div>"
      ],
      "text/plain": [
       "          Unnamed: 0  Points  Score  Weigh\n",
       "0          Mazda RX4    3.90  2.620  16.46\n",
       "1      Mazda RX4 Wag    3.90  2.875  17.02\n",
       "2         Datsun 710    3.85  2.320  18.61\n",
       "3     Hornet 4 Drive    3.08  3.215  19.44\n",
       "4  Hornet Sportabout    3.15  3.440  17.02"
      ]
     },
     "execution_count": 5,
     "metadata": {},
     "output_type": "execute_result"
    }
   ],
   "source": [
    "df.head()"
   ]
  },
  {
   "cell_type": "code",
   "execution_count": 19,
   "id": "3f65aa6c",
   "metadata": {},
   "outputs": [
    {
     "name": "stdout",
     "output_type": "stream",
     "text": [
      "Mean of Points ->  3.5965625\n",
      "Mean of Score ->  3.2172500000000004\n",
      "Mean of Weight ->  17.848750000000003\n"
     ]
    }
   ],
   "source": [
    "print(\"Mean of Points -> \",np.mean(df[\"Points\"]))\n",
    "print(\"Mean of Score -> \",np.mean(df[\"Score\"]))\n",
    "print(\"Mean of Weight -> \",np.mean(df[\"Weigh\"]))"
   ]
  },
  {
   "cell_type": "code",
   "execution_count": 21,
   "id": "93967377",
   "metadata": {},
   "outputs": [
    {
     "name": "stdout",
     "output_type": "stream",
     "text": [
      "Median of Points ->  3.6950000000000003\n",
      "Median of Score ->  3.325\n",
      "Median of Weight ->  17.71\n"
     ]
    }
   ],
   "source": [
    "print(\"Median of Points -> \",np.median(df[\"Points\"]))\n",
    "print(\"Median of Score -> \",np.median(df[\"Score\"]))\n",
    "print(\"Median of Weight -> \",np.median(df[\"Weigh\"]))"
   ]
  },
  {
   "cell_type": "code",
   "execution_count": 26,
   "id": "e4574058",
   "metadata": {},
   "outputs": [
    {
     "name": "stdout",
     "output_type": "stream",
     "text": [
      "Mode of points-> 0    3.07\n",
      "1    3.92\n",
      "Name: Points, dtype: float64\n",
      "Mode of Score -> 0    3.44\n",
      "Name: Score, dtype: float64\n",
      "Mode of Weight-> 0    17.02\n",
      "1    18.90\n",
      "Name: Weigh, dtype: float64\n"
     ]
    }
   ],
   "source": [
    "print(\"Mode of points->\",df[\"Points\"].mode())\n",
    "print(\"Mode of Score ->\",df[\"Score\"].mode())\n",
    "print(\"Mode of Weight->\",df[\"Weigh\"].mode())"
   ]
  },
  {
   "cell_type": "code",
   "execution_count": 29,
   "id": "11db8b37",
   "metadata": {},
   "outputs": [
    {
     "name": "stdout",
     "output_type": "stream",
     "text": [
      "Sd of points-> 0.5346787360709716\n",
      "sd of Score-> 0.9784574429896967\n",
      "sd of Weight-> 1.7869432360968431\n"
     ]
    }
   ],
   "source": [
    "print(\"Sd of points->\",df[\"Points\"].std())\n",
    "print(\"sd of Score->\",df[\"Score\"].std())\n",
    "print(\"sd of Weight->\",df[\"Weigh\"].std())"
   ]
  },
  {
   "cell_type": "code",
   "execution_count": 30,
   "id": "98f8a003",
   "metadata": {},
   "outputs": [
    {
     "name": "stdout",
     "output_type": "stream",
     "text": [
      "variance of points-> 0.28588135080645166\n",
      "variance of score-> 0.9573789677419356\n",
      "Variance of Weight-> 3.193166129032258\n"
     ]
    }
   ],
   "source": [
    "print(\"variance of points->\",df[\"Points\"].var())\n",
    "print(\"variance of score->\",df[\"Score\"].var())\n",
    "print(\"Variance of Weight->\",df[\"Weigh\"].var())\n"
   ]
  },
  {
   "cell_type": "code",
   "execution_count": 37,
   "id": "1f344a75",
   "metadata": {},
   "outputs": [
    {
     "name": "stdout",
     "output_type": "stream",
     "text": [
      "Range of Points 2.76 - 4.93\n",
      "Range of Score 1.513 - 5.424\n",
      "Range of Weight 14.5 - 22.9\n"
     ]
    }
   ],
   "source": [
    "print(\"Range of Points\",df[\"Points\"].min() , \"-\" , df[\"Points\"].max())\n",
    "print(\"Range of Score\",df[\"Score\"].min()  , \"-\" , df[\"Score\"].max())\n",
    "print(\"Range of Weight\",df[\"Weigh\"].min()  , \"-\" , df[\"Weigh\"].max())"
   ]
  },
  {
   "cell_type": "code",
   "execution_count": null,
   "id": "ebaeaa2a",
   "metadata": {},
   "outputs": [],
   "source": [
    "#Points or weights  are bimodal data \n",
    "# For all 3 Mean, Mode , Median  is nearly  same so data is Normal distributed..........."
   ]
  },
  {
   "cell_type": "code",
   "execution_count": null,
   "id": "18a7b73d",
   "metadata": {},
   "outputs": [],
   "source": []
  }
 ],
 "metadata": {
  "kernelspec": {
   "display_name": "Python 3 (ipykernel)",
   "language": "python",
   "name": "python3"
  },
  "language_info": {
   "codemirror_mode": {
    "name": "ipython",
    "version": 3
   },
   "file_extension": ".py",
   "mimetype": "text/x-python",
   "name": "python",
   "nbconvert_exporter": "python",
   "pygments_lexer": "ipython3",
   "version": "3.11.5"
  }
 },
 "nbformat": 4,
 "nbformat_minor": 5
}
