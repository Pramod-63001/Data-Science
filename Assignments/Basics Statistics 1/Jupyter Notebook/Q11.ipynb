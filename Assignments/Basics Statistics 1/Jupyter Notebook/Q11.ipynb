{
 "cells": [
  {
   "cell_type": "code",
   "execution_count": 3,
   "id": "ca49d97e",
   "metadata": {},
   "outputs": [],
   "source": [
    "import pandas as pd \n",
    "import numpy as np \n",
    "from scipy import stats\n",
    "from scipy.stats import norm\n"
   ]
  },
  {
   "cell_type": "code",
   "execution_count": 4,
   "id": "736f4fad",
   "metadata": {},
   "outputs": [],
   "source": [
    "N=30_00_000\n",
    "n=2000\n",
    "xbar=200\n",
    "s=30"
   ]
  },
  {
   "cell_type": "code",
   "execution_count": 5,
   "id": "d9b12487",
   "metadata": {},
   "outputs": [
    {
     "data": {
      "text/plain": [
       "(198.738325292158, 201.261674707842)"
      ]
     },
     "execution_count": 5,
     "metadata": {},
     "output_type": "execute_result"
    }
   ],
   "source": [
    "#avg.weight of Adult in mexico with 94% CI\n",
    "stats.norm.interval(0.94,xbar,s/(np.sqrt(n)))"
   ]
  },
  {
   "cell_type": "code",
   "execution_count": 7,
   "id": "23deb73a",
   "metadata": {},
   "outputs": [
    {
     "data": {
      "text/plain": [
       "(198.43943840429978, 201.56056159570022)"
      ]
     },
     "execution_count": 7,
     "metadata": {},
     "output_type": "execute_result"
    }
   ],
   "source": [
    "#Avg .weight of Adult in Mexico with 98% CI\n",
    "stats.norm.interval(0.98,xbar,s/(np.sqrt(n)))"
   ]
  },
  {
   "cell_type": "code",
   "execution_count": 8,
   "id": "12d7a11d",
   "metadata": {},
   "outputs": [
    {
     "data": {
      "text/plain": [
       "(198.62230334813333, 201.37769665186667)"
      ]
     },
     "execution_count": 8,
     "metadata": {},
     "output_type": "execute_result"
    }
   ],
   "source": [
    "#Avg Weight of Adult in Mexico with 96% CI\n",
    "stats.norm.interval(0.96,xbar,s/(np.sqrt(n)))"
   ]
  },
  {
   "cell_type": "code",
   "execution_count": null,
   "id": "421b06fe",
   "metadata": {},
   "outputs": [],
   "source": []
  }
 ],
 "metadata": {
  "kernelspec": {
   "display_name": "Python 3 (ipykernel)",
   "language": "python",
   "name": "python3"
  },
  "language_info": {
   "codemirror_mode": {
    "name": "ipython",
    "version": 3
   },
   "file_extension": ".py",
   "mimetype": "text/x-python",
   "name": "python",
   "nbconvert_exporter": "python",
   "pygments_lexer": "ipython3",
   "version": "3.11.5"
  }
 },
 "nbformat": 4,
 "nbformat_minor": 5
}
