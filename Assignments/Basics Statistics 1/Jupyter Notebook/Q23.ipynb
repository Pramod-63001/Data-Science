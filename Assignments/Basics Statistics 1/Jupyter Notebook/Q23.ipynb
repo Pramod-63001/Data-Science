{
 "cells": [
  {
   "cell_type": "code",
   "execution_count": 8,
   "id": "3b2f369e",
   "metadata": {},
   "outputs": [],
   "source": [
    " from scipy import stats\n",
    "    "
   ]
  },
  {
   "cell_type": "code",
   "execution_count": 9,
   "id": "7b296c90",
   "metadata": {},
   "outputs": [],
   "source": [
    "degree_of_freedom=25-1"
   ]
  },
  {
   "cell_type": "code",
   "execution_count": 10,
   "id": "056182ad",
   "metadata": {},
   "outputs": [
    {
     "data": {
      "text/plain": [
       "1.7108820799094275"
      ]
     },
     "execution_count": 10,
     "metadata": {},
     "output_type": "execute_result"
    }
   ],
   "source": [
    "#a)95%CI\n",
    "stats.t.ppf(0.95 , degree_of_freedom)"
   ]
  },
  {
   "cell_type": "code",
   "execution_count": 11,
   "id": "ae707e31",
   "metadata": {},
   "outputs": [
    {
     "data": {
      "text/plain": [
       "1.8280511719596342"
      ]
     },
     "execution_count": 11,
     "metadata": {},
     "output_type": "execute_result"
    }
   ],
   "source": [
    "#b)96%CI\n",
    "stats.t.ppf(0.96,degree_of_freedom)"
   ]
  },
  {
   "cell_type": "code",
   "execution_count": 12,
   "id": "92eb5400",
   "metadata": {},
   "outputs": [
    {
     "data": {
      "text/plain": [
       "2.4921594731575762"
      ]
     },
     "execution_count": 12,
     "metadata": {},
     "output_type": "execute_result"
    }
   ],
   "source": [
    "#c)99%CI\n",
    "stats.t.ppf(0.99,degree_of_freedom)"
   ]
  },
  {
   "cell_type": "code",
   "execution_count": null,
   "id": "228cbe4b",
   "metadata": {},
   "outputs": [],
   "source": []
  }
 ],
 "metadata": {
  "kernelspec": {
   "display_name": "Python 3 (ipykernel)",
   "language": "python",
   "name": "python3"
  },
  "language_info": {
   "codemirror_mode": {
    "name": "ipython",
    "version": 3
   },
   "file_extension": ".py",
   "mimetype": "text/x-python",
   "name": "python",
   "nbconvert_exporter": "python",
   "pygments_lexer": "ipython3",
   "version": "3.11.5"
  }
 },
 "nbformat": 4,
 "nbformat_minor": 5
}
