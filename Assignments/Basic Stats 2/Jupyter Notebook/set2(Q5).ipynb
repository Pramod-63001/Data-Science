{
 "cells": [
  {
   "cell_type": "code",
   "execution_count": 10,
   "id": "02afef18",
   "metadata": {},
   "outputs": [
    {
     "name": "stdout",
     "output_type": "stream",
     "text": [
      "Standard Devitation is Rs 7.59645655454002 Million\n"
     ]
    }
   ],
   "source": [
    "import pandas as pd \n",
    "import numpy as np\n",
    "import matplotlib.pyplot as plt\n",
    "from scipy import stats\n",
    "Total_mean=(5+7)*45\n",
    "Total_variance=(32+42)*45\n",
    "SD=np.sqrt(np.sqrt(Total_variance))\n",
    "print(\"Standard Devitation is Rs\",SD,\"Million\")"
   ]
  },
  {
   "cell_type": "code",
   "execution_count": 11,
   "id": "87527ddd",
   "metadata": {},
   "outputs": [
    {
     "name": "stdout",
     "output_type": "stream",
     "text": [
      "Range is Rs (525.1112187429783, 554.8887812570217) in Millions\n"
     ]
    }
   ],
   "source": [
    "#A.specify a Rupee range (centered on the mean )such that it contains 95%probability for the annual profit of the company\n",
    "print(\"Range is Rs\",(stats.norm.interval(0.95,Total_mean,SD)),\"in Millions\")"
   ]
  },
  {
   "cell_type": "code",
   "execution_count": 12,
   "id": "cdf413fb",
   "metadata": {},
   "outputs": [
    {
     "name": "stdout",
     "output_type": "stream",
     "text": [
      "5th percentile of profit (in million Rupees ) is  528.0\n"
     ]
    }
   ],
   "source": [
    "#B.specify the %5th percentile of profit (in Rupees) for the company\n",
    "#To compute 5th percentile,we use the formula x=u+ z sigma ;Wherein from z table ,5 percentile=-1.645\n",
    "X=Total_mean+(-1.645)*SD\n",
    "print(\"5th percentile of profit (in million Rupees ) is \",np.round(X,))"
   ]
  },
  {
   "cell_type": "code",
   "execution_count": 13,
   "id": "fa1ec447",
   "metadata": {},
   "outputs": [
    {
     "data": {
      "text/plain": [
       "0.188379558905791"
      ]
     },
     "execution_count": 13,
     "metadata": {},
     "output_type": "execute_result"
    }
   ],
   "source": [
    "#c.probability of Division 1 making aloss p(X<0)\n",
    "stats.norm.cdf(0,5,np.sqrt(32))"
   ]
  },
  {
   "cell_type": "code",
   "execution_count": 14,
   "id": "c989a8ef",
   "metadata": {},
   "outputs": [
    {
     "data": {
      "text/plain": [
       "0.14004360540574878"
      ]
     },
     "execution_count": 14,
     "metadata": {},
     "output_type": "execute_result"
    }
   ],
   "source": [
    "#probability of Division 2 making a loss p(x<0)\n",
    "stats.norm.cdf(0,7,np.sqrt(42))"
   ]
  },
  {
   "cell_type": "code",
   "execution_count": null,
   "id": "7a5be09c",
   "metadata": {},
   "outputs": [],
   "source": []
  }
 ],
 "metadata": {
  "kernelspec": {
   "display_name": "Python 3 (ipykernel)",
   "language": "python",
   "name": "python3"
  },
  "language_info": {
   "codemirror_mode": {
    "name": "ipython",
    "version": 3
   },
   "file_extension": ".py",
   "mimetype": "text/x-python",
   "name": "python",
   "nbconvert_exporter": "python",
   "pygments_lexer": "ipython3",
   "version": "3.11.5"
  }
 },
 "nbformat": 4,
 "nbformat_minor": 5
}
